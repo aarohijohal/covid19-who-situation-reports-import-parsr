{
 "cells": [
  {
   "cell_type": "markdown",
   "metadata": {},
   "source": [
    "# Fetching WHO's situation reports on COVID-19 as DataFrames"
   ]
  },
  {
   "cell_type": "markdown",
   "metadata": {},
   "source": [
    "## Get the data"
   ]
  },
  {
   "cell_type": "code",
   "execution_count": 1,
   "metadata": {},
   "outputs": [],
   "source": [
    "from who_covid_scraper import WHOCovidScraper\n",
    "scraper = WHOCovidScraper('https://www.who.int/emergencies/diseases/novel-coronavirus-2019/situation-reports')\n",
    "file_save_location = './data'"
   ]
  },
  {
   "cell_type": "markdown",
   "metadata": {},
   "source": [
    "## Visualise the scraped data"
   ]
  },
  {
   "cell_type": "code",
   "execution_count": 2,
   "metadata": {},
   "outputs": [
    {
     "data": {
      "text/html": [
       "<div>\n",
       "<style scoped>\n",
       "    .dataframe tbody tr th:only-of-type {\n",
       "        vertical-align: middle;\n",
       "    }\n",
       "\n",
       "    .dataframe tbody tr th {\n",
       "        vertical-align: top;\n",
       "    }\n",
       "\n",
       "    .dataframe thead th {\n",
       "        text-align: right;\n",
       "    }\n",
       "</style>\n",
       "<table border=\"1\" class=\"dataframe\">\n",
       "  <thead>\n",
       "    <tr style=\"text-align: right;\">\n",
       "      <th></th>\n",
       "      <th>Report_ID</th>\n",
       "      <th>Date</th>\n",
       "      <th>Link</th>\n",
       "    </tr>\n",
       "  </thead>\n",
       "  <tbody>\n",
       "    <tr>\n",
       "      <th>0</th>\n",
       "      <td>71</td>\n",
       "      <td>2020-03-31</td>\n",
       "      <td>https://www.who.int/docs/default-source/corona...</td>\n",
       "    </tr>\n",
       "    <tr>\n",
       "      <th>1</th>\n",
       "      <td>70</td>\n",
       "      <td>2020-03-30</td>\n",
       "      <td>https://www.who.int/docs/default-source/corona...</td>\n",
       "    </tr>\n",
       "    <tr>\n",
       "      <th>2</th>\n",
       "      <td>69</td>\n",
       "      <td>2020-03-29</td>\n",
       "      <td>https://www.who.int/docs/default-source/corona...</td>\n",
       "    </tr>\n",
       "    <tr>\n",
       "      <th>3</th>\n",
       "      <td>69</td>\n",
       "      <td>2020-03-29</td>\n",
       "      <td>https://www.who.int/docs/default-source/corona...</td>\n",
       "    </tr>\n",
       "    <tr>\n",
       "      <th>4</th>\n",
       "      <td>68</td>\n",
       "      <td>2020-03-28</td>\n",
       "      <td>https://www.who.int/docs/default-source/corona...</td>\n",
       "    </tr>\n",
       "    <tr>\n",
       "      <th>...</th>\n",
       "      <td>...</td>\n",
       "      <td>...</td>\n",
       "      <td>...</td>\n",
       "    </tr>\n",
       "    <tr>\n",
       "      <th>70</th>\n",
       "      <td>5</td>\n",
       "      <td>2020-01-25</td>\n",
       "      <td>https://www.who.int/docs/default-source/corona...</td>\n",
       "    </tr>\n",
       "    <tr>\n",
       "      <th>71</th>\n",
       "      <td>4</td>\n",
       "      <td>2020-01-24</td>\n",
       "      <td>https://www.who.int/docs/default-source/corona...</td>\n",
       "    </tr>\n",
       "    <tr>\n",
       "      <th>72</th>\n",
       "      <td>3</td>\n",
       "      <td>2020-01-23</td>\n",
       "      <td>https://www.who.int/docs/default-source/corona...</td>\n",
       "    </tr>\n",
       "    <tr>\n",
       "      <th>73</th>\n",
       "      <td>2</td>\n",
       "      <td>2020-01-22</td>\n",
       "      <td>https://www.who.int/docs/default-source/corona...</td>\n",
       "    </tr>\n",
       "    <tr>\n",
       "      <th>74</th>\n",
       "      <td>1</td>\n",
       "      <td>2020-01-21</td>\n",
       "      <td>https://www.who.int/docs/default-source/corona...</td>\n",
       "    </tr>\n",
       "  </tbody>\n",
       "</table>\n",
       "<p>75 rows × 3 columns</p>\n",
       "</div>"
      ],
      "text/plain": [
       "   Report_ID       Date                                               Link\n",
       "0         71 2020-03-31  https://www.who.int/docs/default-source/corona...\n",
       "1         70 2020-03-30  https://www.who.int/docs/default-source/corona...\n",
       "2         69 2020-03-29  https://www.who.int/docs/default-source/corona...\n",
       "3         69 2020-03-29  https://www.who.int/docs/default-source/corona...\n",
       "4         68 2020-03-28  https://www.who.int/docs/default-source/corona...\n",
       "..       ...        ...                                                ...\n",
       "70         5 2020-01-25  https://www.who.int/docs/default-source/corona...\n",
       "71         4 2020-01-24  https://www.who.int/docs/default-source/corona...\n",
       "72         3 2020-01-23  https://www.who.int/docs/default-source/corona...\n",
       "73         2 2020-01-22  https://www.who.int/docs/default-source/corona...\n",
       "74         1 2020-01-21  https://www.who.int/docs/default-source/corona...\n",
       "\n",
       "[75 rows x 3 columns]"
      ]
     },
     "execution_count": 2,
     "metadata": {},
     "output_type": "execute_result"
    }
   ],
   "source": [
    "scraper.df"
   ]
  },
  {
   "cell_type": "markdown",
   "metadata": {},
   "source": [
    "## Download for a given date"
   ]
  },
  {
   "cell_type": "code",
   "execution_count": 3,
   "metadata": {},
   "outputs": [
    {
     "name": "stdout",
     "output_type": "stream",
     "text": [
      "report for date 2020/03/21 downloaded at ./data/20200321-sitrep-61-covid-19.pdf\n"
     ]
    }
   ],
   "source": [
    "download = scraper.download_for_date(datearg='21st of March', folder=file_save_location)"
   ]
  },
  {
   "cell_type": "markdown",
   "metadata": {},
   "source": [
    "## Send to Parsr for extraction"
   ]
  },
  {
   "cell_type": "code",
   "execution_count": 4,
   "metadata": {
    "collapsed": true,
    "jupyter": {
     "outputs_hidden": true
    }
   },
   "outputs": [
    {
     "name": "stdout",
     "output_type": "stream",
     "text": [
      "> Polling server for the job 1875d3da7ea94671791b97d975dc1f...\n",
      ">> Progress percentage: 0\n",
      ">> Progress percentage: 0\n",
      ">> Progress percentage: 0\n",
      ">> Progress percentage: 0\n",
      ">> Progress percentage: 0\n",
      ">> Progress percentage: 0\n",
      ">> Progress percentage: 0\n",
      ">> Progress percentage: 0\n",
      ">> Progress percentage: 0\n",
      ">> Progress percentage: 0\n",
      ">> Progress percentage: 0\n",
      ">> Progress percentage: 0\n",
      ">> Progress percentage: 0\n",
      ">> Job done!\n"
     ]
    }
   ],
   "source": [
    "job = scraper.send_document_to_parsr(download['file'])"
   ]
  },
  {
   "cell_type": "code",
   "execution_count": 5,
   "metadata": {},
   "outputs": [
    {
     "data": {
      "text/plain": [
       "{'file': './data/20200321-sitrep-61-covid-19.pdf',\n",
       " 'config': 'defaultConfig.json',\n",
       " 'status_code': 202,\n",
       " 'server_response': '1875d3da7ea94671791b97d975dc1f'}"
      ]
     },
     "execution_count": 5,
     "metadata": {},
     "output_type": "execute_result"
    }
   ],
   "source": [
    "job"
   ]
  },
  {
   "cell_type": "markdown",
   "metadata": {},
   "source": [
    "## Fetch all tabular data and assemble the data together"
   ]
  },
  {
   "cell_type": "code",
   "execution_count": 6,
   "metadata": {},
   "outputs": [
    {
     "data": {
      "text/html": [
       "<div>\n",
       "<style scoped>\n",
       "    .dataframe tbody tr th:only-of-type {\n",
       "        vertical-align: middle;\n",
       "    }\n",
       "\n",
       "    .dataframe tbody tr th {\n",
       "        vertical-align: top;\n",
       "    }\n",
       "\n",
       "    .dataframe thead th {\n",
       "        text-align: right;\n",
       "    }\n",
       "</style>\n",
       "<table border=\"1\" class=\"dataframe\">\n",
       "  <thead>\n",
       "    <tr style=\"text-align: right;\">\n",
       "      <th></th>\n",
       "      <th>Reporting Country/ Territory/Area†</th>\n",
       "      <th>Total confirmed ‡ cases</th>\n",
       "      <th>Total confirmed new cases</th>\n",
       "      <th>Total deaths</th>\n",
       "      <th>Total new deaths</th>\n",
       "      <th>Transmission classification§</th>\n",
       "      <th>Days since last reported case</th>\n",
       "    </tr>\n",
       "  </thead>\n",
       "  <tbody>\n",
       "    <tr>\n",
       "      <th>0</th>\n",
       "      <td>Western Pacific Region</td>\n",
       "      <td></td>\n",
       "      <td></td>\n",
       "      <td></td>\n",
       "      <td></td>\n",
       "      <td></td>\n",
       "      <td></td>\n",
       "    </tr>\n",
       "    <tr>\n",
       "      <th>1</th>\n",
       "      <td>China</td>\n",
       "      <td>81416</td>\n",
       "      <td>116</td>\n",
       "      <td>3261</td>\n",
       "      <td>8</td>\n",
       "      <td>Local transmission</td>\n",
       "      <td>0</td>\n",
       "    </tr>\n",
       "    <tr>\n",
       "      <th>2</th>\n",
       "      <td>Republic of Korea</td>\n",
       "      <td>8799</td>\n",
       "      <td>147</td>\n",
       "      <td>102</td>\n",
       "      <td>8</td>\n",
       "      <td>Local transmission</td>\n",
       "      <td>0</td>\n",
       "    </tr>\n",
       "    <tr>\n",
       "      <th>3</th>\n",
       "      <td>Malaysia</td>\n",
       "      <td>1030</td>\n",
       "      <td>130</td>\n",
       "      <td>3</td>\n",
       "      <td>1</td>\n",
       "      <td>Local transmission</td>\n",
       "      <td>0</td>\n",
       "    </tr>\n",
       "    <tr>\n",
       "      <th>4</th>\n",
       "      <td>Japan</td>\n",
       "      <td>996</td>\n",
       "      <td>46</td>\n",
       "      <td>35</td>\n",
       "      <td>2</td>\n",
       "      <td>Local transmission</td>\n",
       "      <td>0</td>\n",
       "    </tr>\n",
       "    <tr>\n",
       "      <th>...</th>\n",
       "      <td>...</td>\n",
       "      <td>...</td>\n",
       "      <td>...</td>\n",
       "      <td>...</td>\n",
       "      <td>...</td>\n",
       "      <td>...</td>\n",
       "      <td>...</td>\n",
       "    </tr>\n",
       "    <tr>\n",
       "      <th>192</th>\n",
       "      <td>Mayotte</td>\n",
       "      <td>4</td>\n",
       "      <td>0</td>\n",
       "      <td>0</td>\n",
       "      <td>0</td>\n",
       "      <td>Imported cases only</td>\n",
       "      <td>1</td>\n",
       "    </tr>\n",
       "    <tr>\n",
       "      <th>193</th>\n",
       "      <td>Subtotal for all regions</td>\n",
       "      <td>265361</td>\n",
       "      <td>32000</td>\n",
       "      <td>11176</td>\n",
       "      <td>1343</td>\n",
       "      <td></td>\n",
       "      <td></td>\n",
       "    </tr>\n",
       "    <tr>\n",
       "      <th>194</th>\n",
       "      <td>International conveyance</td>\n",
       "      <td>712</td>\n",
       "      <td>0</td>\n",
       "      <td>7</td>\n",
       "      <td>0</td>\n",
       "      <td>Local transmission</td>\n",
       "      <td>5</td>\n",
       "    </tr>\n",
       "    <tr>\n",
       "      <th>195</th>\n",
       "      <td>(Diamond Princess)</td>\n",
       "      <td></td>\n",
       "      <td></td>\n",
       "      <td></td>\n",
       "      <td></td>\n",
       "      <td></td>\n",
       "      <td></td>\n",
       "    </tr>\n",
       "    <tr>\n",
       "      <th>196</th>\n",
       "      <td>Grand total</td>\n",
       "      <td>266073</td>\n",
       "      <td>32000</td>\n",
       "      <td>11183</td>\n",
       "      <td>1343</td>\n",
       "      <td></td>\n",
       "      <td></td>\n",
       "    </tr>\n",
       "  </tbody>\n",
       "</table>\n",
       "<p>197 rows × 7 columns</p>\n",
       "</div>"
      ],
      "text/plain": [
       "    Reporting Country/ Territory/Area† Total confirmed ‡ cases  \\\n",
       "0               Western Pacific Region                           \n",
       "1                                China                   81416   \n",
       "2                    Republic of Korea                    8799   \n",
       "3                             Malaysia                    1030   \n",
       "4                                Japan                     996   \n",
       "..                                 ...                     ...   \n",
       "192                            Mayotte                       4   \n",
       "193           Subtotal for all regions                  265361   \n",
       "194           International conveyance                     712   \n",
       "195                 (Diamond Princess)                           \n",
       "196                        Grand total                  266073   \n",
       "\n",
       "    Total confirmed new cases Total deaths Total new deaths  \\\n",
       "0                                                             \n",
       "1                         116         3261                8   \n",
       "2                         147          102                8   \n",
       "3                         130            3                1   \n",
       "4                          46           35                2   \n",
       "..                        ...          ...              ...   \n",
       "192                         0            0                0   \n",
       "193                     32000        11176             1343   \n",
       "194                         0            7                0   \n",
       "195                                                           \n",
       "196                     32000        11183             1343   \n",
       "\n",
       "    Transmission classification§ Days since last reported case  \n",
       "0                                                               \n",
       "1             Local transmission                             0  \n",
       "2             Local transmission                             0  \n",
       "3             Local transmission                             0  \n",
       "4             Local transmission                             0  \n",
       "..                           ...                           ...  \n",
       "192          Imported cases only                             1  \n",
       "193                                                             \n",
       "194           Local transmission                             5  \n",
       "195                                                             \n",
       "196                                                             \n",
       "\n",
       "[197 rows x 7 columns]"
      ]
     },
     "execution_count": 6,
     "metadata": {},
     "output_type": "execute_result"
    }
   ],
   "source": [
    "data = scraper.assemble_data(job['server_response'])\n",
    "data"
   ]
  },
  {
   "cell_type": "markdown",
   "metadata": {},
   "source": [
    "## Download all the reports"
   ]
  },
  {
   "cell_type": "code",
   "execution_count": 3,
   "metadata": {
    "collapsed": true,
    "jupyter": {
     "outputs_hidden": true
    }
   },
   "outputs": [
    {
     "name": "stdout",
     "output_type": "stream",
     "text": [
      "report ./data/20200331-sitrep-71-covid-19.pdf already exists. didn't re-download\n",
      "report ./data/20200330-sitrep-70-covid-19.pdf already exists. didn't re-download\n",
      "report ./data/20200329-sitrep-69-covid-19.pdf already exists. didn't re-download\n",
      "report ./data/20200328-sitrep-68-covid-19.pdf already exists. didn't re-download\n",
      "report ./data/20200327-sitrep-67-covid-19.pdf already exists. didn't re-download\n",
      "report ./data/20200326-sitrep-66-covid-19.pdf already exists. didn't re-download\n",
      "report ./data/20200325-sitrep-65-covid-19.pdf already exists. didn't re-download\n",
      "report ./data/20200324-sitrep-64-covid-19.pdf already exists. didn't re-download\n",
      "report ./data/20200323-sitrep-63-covid-19.pdf already exists. didn't re-download\n",
      "report ./data/20200322-sitrep-62-covid-19.pdf already exists. didn't re-download\n",
      "report ./data/20200321-sitrep-61-covid-19.pdf already exists. didn't re-download\n",
      "report ./data/20200320-sitrep-60-covid-19.pdf already exists. didn't re-download\n",
      "report ./data/20200319-sitrep-59-covid-19.pdf already exists. didn't re-download\n",
      "report ./data/20200318-sitrep-58-covid-19.pdf already exists. didn't re-download\n",
      "report ./data/20200317-sitrep-57-covid-19.pdf already exists. didn't re-download\n",
      "report ./data/20200316-sitrep-56-covid-19.pdf already exists. didn't re-download\n",
      "report ./data/20200315-sitrep-55-covid-19.pdf already exists. didn't re-download\n",
      "report ./data/20200314-sitrep-54-covid-19.pdf already exists. didn't re-download\n",
      "report ./data/20200313-sitrep-53-covid-19.pdf already exists. didn't re-download\n",
      "report ./data/20200312-sitrep-52-covid-19.pdf already exists. didn't re-download\n",
      "report ./data/20200311-sitrep-51-covid-19.pdf already exists. didn't re-download\n",
      "report ./data/20200310-sitrep-50-covid-19.pdf already exists. didn't re-download\n",
      "report ./data/20200309-sitrep-49-covid-19.pdf already exists. didn't re-download\n",
      "report ./data/20200308-sitrep-48-covid-19.pdf already exists. didn't re-download\n",
      "report ./data/20200307-sitrep-47-covid-19.pdf already exists. didn't re-download\n",
      "report ./data/20200306-sitrep-46-covid-19.pdf already exists. didn't re-download\n",
      "report ./data/20200305-sitrep-45-covid-19.pdf already exists. didn't re-download\n",
      "report ./data/20200304-sitrep-44-covid-19.pdf already exists. didn't re-download\n",
      "report ./data/20200303-sitrep-43-covid-19.pdf already exists. didn't re-download\n",
      "report ./data/20200302-sitrep-42-covid-19.pdf already exists. didn't re-download\n",
      "report ./data/20200301-sitrep-41-covid-19.pdf already exists. didn't re-download\n",
      "report ./data/20200229-sitrep-40-covid-19.pdf already exists. didn't re-download\n",
      "report ./data/20200228-sitrep-39-covid-19.pdf already exists. didn't re-download\n",
      "report ./data/20200227-sitrep-38-covid-19.pdf already exists. didn't re-download\n",
      "report ./data/20200226-sitrep-37-covid-19.pdf already exists. didn't re-download\n",
      "report ./data/20200225-sitrep-36-covid-19.pdf already exists. didn't re-download\n",
      "report ./data/20200224-sitrep-35-covid-19.pdf already exists. didn't re-download\n",
      "report ./data/20200223-sitrep-34-covid-19.pdf already exists. didn't re-download\n",
      "report ./data/20200222-sitrep-33-covid-19.pdf already exists. didn't re-download\n",
      "report ./data/20200221-sitrep-32-covid-19.pdf already exists. didn't re-download\n",
      "report ./data/20200220-sitrep-31-covid-19.pdf already exists. didn't re-download\n",
      "report ./data/20200219-sitrep-30-covid-19.pdf already exists. didn't re-download\n",
      "report ./data/20200218-sitrep-29-covid-19.pdf already exists. didn't re-download\n",
      "report ./data/20200217-sitrep-28-covid-19.pdf already exists. didn't re-download\n",
      "report ./data/20200216-sitrep-27-covid-19.pdf already exists. didn't re-download\n",
      "report ./data/20200215-sitrep-26-covid-19.pdf already exists. didn't re-download\n",
      "report ./data/20200214-sitrep-25-covid-19.pdf already exists. didn't re-download\n",
      "report ./data/20200213-sitrep-24-covid-19.pdf already exists. didn't re-download\n",
      "report ./data/20200212-sitrep-23-ncov.pdf already exists. didn't re-download\n",
      "report ./data/20200211-sitrep-22-ncov.pdf already exists. didn't re-download\n",
      "report ./data/20200210-sitrep-21-ncov.pdf already exists. didn't re-download\n",
      "report ./data/20200209-sitrep-20-ncov.pdf already exists. didn't re-download\n",
      "report ./data/20200208-sitrep-19-ncov.pdf already exists. didn't re-download\n",
      "report ./data/20200207-sitrep-18-ncov.pdf already exists. didn't re-download\n",
      "report ./data/20200206-sitrep-17-ncov.pdf already exists. didn't re-download\n",
      "report ./data/20200205-sitrep-16-ncov.pdf already exists. didn't re-download\n",
      "report ./data/20200204-sitrep-15-ncov.pdf already exists. didn't re-download\n",
      "report ./data/20200203-sitrep-14-ncov.pdf already exists. didn't re-download\n",
      "report ./data/20200202-sitrep-13-ncov-v3.pdf already exists. didn't re-download\n",
      "report ./data/20200201-sitrep-12-ncov.pdf already exists. didn't re-download\n",
      "report ./data/20200131-sitrep-11-ncov.pdf already exists. didn't re-download\n",
      "report ./data/20200130-sitrep-10-ncov.pdf already exists. didn't re-download\n",
      "report ./data/20200129-sitrep-9-ncov-v2.pdf already exists. didn't re-download\n",
      "report ./data/20200128-sitrep-8-ncov-cleared.pdf already exists. didn't re-download\n",
      "report ./data/20200127-sitrep-7-2019--ncov.pdf already exists. didn't re-download\n",
      "report ./data/20200126-sitrep-6-2019--ncov.pdf already exists. didn't re-download\n",
      "report ./data/20200125-sitrep-5-2019-ncov.pdf already exists. didn't re-download\n",
      "report ./data/20200124-sitrep-4-2019-ncov.pdf already exists. didn't re-download\n",
      "report ./data/20200123-sitrep-3-2019-ncov.pdf already exists. didn't re-download\n",
      "report ./data/20200122-sitrep-2-2019-ncov.pdf already exists. didn't re-download\n",
      "report ./data/20200121-sitrep-1-2019-ncov.pdf already exists. didn't re-download\n"
     ]
    }
   ],
   "source": [
    "downloaded_files = scraper.download_everything(folder=file_save_location)"
   ]
  },
  {
   "cell_type": "markdown",
   "metadata": {},
   "source": [
    "## Extract and save all DataFrames as CSVs"
   ]
  },
  {
   "cell_type": "code",
   "execution_count": null,
   "metadata": {},
   "outputs": [
    {
     "name": "stdout",
     "output_type": "stream",
     "text": [
      "> Polling server for the job 70d4120f6400138bd70bc955cab831...\n",
      ">> Progress percentage: 0\n",
      ">> Progress percentage: 0\n",
      ">> Progress percentage: 0\n",
      ">> Progress percentage: 0\n",
      ">> Progress percentage: 0\n",
      ">> Progress percentage: 0\n",
      ">> Progress percentage: 0\n",
      ">> Progress percentage: 0\n",
      ">> Progress percentage: 0\n",
      ">> Progress percentage: 0\n",
      ">> Progress percentage: 0\n",
      ">> Progress percentage: 0\n"
     ]
    }
   ],
   "source": [
    "from pathlib import Path\n",
    "for file in downloaded_files:\n",
    "    job = scraper.send_document_to_parsr(file)\n",
    "    data = scraper.assemble_data(job['server_response'])\n",
    "    file_csv = Path(Path(file).parent.as_posix() + '/' + Path(file).stem + '.csv').as_posix()\n",
    "    data.to_csv(file_csv, sep='\\t', encoding='utf-8', index=False)"
   ]
  },
  {
   "cell_type": "code",
   "execution_count": null,
   "metadata": {},
   "outputs": [],
   "source": []
  }
 ],
 "metadata": {
  "kernelspec": {
   "display_name": "Python 3",
   "language": "python",
   "name": "python3"
  },
  "language_info": {
   "codemirror_mode": {
    "name": "ipython",
    "version": 3
   },
   "file_extension": ".py",
   "mimetype": "text/x-python",
   "name": "python",
   "nbconvert_exporter": "python",
   "pygments_lexer": "ipython3",
   "version": "3.8.2"
  }
 },
 "nbformat": 4,
 "nbformat_minor": 4
}
